{
 "cells": [
  {
   "cell_type": "code",
   "execution_count": 1,
   "metadata": {},
   "outputs": [],
   "source": [
    "import numpy as np\n",
    "import matplotlib.pyplot as plt\n",
    "import os\n",
    "import cv2\n",
    "from random import shuffle\n",
    "from keras.models import Sequential\n",
    "from keras.layers import Conv2D\n",
    "from keras.layers import MaxPooling2D\n",
    "from keras.layers import Flatten \n",
    "from keras.layers import Dense, Dropout\n",
    "from keras.preprocessing import image\n",
    "from keras.preprocessing.image import ImageDataGenerator\n",
    "import split_folders"
   ]
  },
  {
   "cell_type": "code",
   "execution_count": 2,
   "metadata": {},
   "outputs": [
    {
     "name": "stderr",
     "output_type": "stream",
     "text": [
      "Copying files: 1376 files [00:01, 1359.39 files/s]\n"
     ]
    }
   ],
   "source": [
    "split_folders.ratio('mask_data', output = 'final_data', ratio = (0.8, 0.2))"
   ]
  },
  {
   "cell_type": "code",
   "execution_count": 3,
   "metadata": {},
   "outputs": [],
   "source": [
    "classifier = Sequential()"
   ]
  },
  {
   "cell_type": "code",
   "execution_count": 4,
   "metadata": {},
   "outputs": [],
   "source": [
    "classifier.add(Conv2D(32, (3, 3), input_shape = (224, 224, 3), activation = 'relu'))\n",
    "classifier.add(MaxPooling2D(pool_size = (2, 2)))\n",
    "classifier.add(Conv2D(32, (3, 3), activation = 'relu'))\n",
    "classifier.add(MaxPooling2D(pool_size = (2, 2)))\n",
    "classifier.add(Conv2D(32, (3, 3), activation = 'relu'))\n",
    "classifier.add(MaxPooling2D(pool_size = (2, 2)))\n",
    "\n",
    "classifier.add(Flatten())\n",
    "\n",
    "classifier.add(Dense(units = 128, activation = 'relu'))\n",
    "classifier.add(Dropout(0.2))\n",
    "classifier.add(Dense(units = 1, activation = 'sigmoid'))"
   ]
  },
  {
   "cell_type": "code",
   "execution_count": 5,
   "metadata": {},
   "outputs": [
    {
     "name": "stdout",
     "output_type": "stream",
     "text": [
      "Model: \"sequential\"\n",
      "_________________________________________________________________\n",
      "Layer (type)                 Output Shape              Param #   \n",
      "=================================================================\n",
      "conv2d (Conv2D)              (None, 222, 222, 32)      896       \n",
      "_________________________________________________________________\n",
      "max_pooling2d (MaxPooling2D) (None, 111, 111, 32)      0         \n",
      "_________________________________________________________________\n",
      "conv2d_1 (Conv2D)            (None, 109, 109, 32)      9248      \n",
      "_________________________________________________________________\n",
      "max_pooling2d_1 (MaxPooling2 (None, 54, 54, 32)        0         \n",
      "_________________________________________________________________\n",
      "conv2d_2 (Conv2D)            (None, 52, 52, 32)        9248      \n",
      "_________________________________________________________________\n",
      "max_pooling2d_2 (MaxPooling2 (None, 26, 26, 32)        0         \n",
      "_________________________________________________________________\n",
      "flatten (Flatten)            (None, 21632)             0         \n",
      "_________________________________________________________________\n",
      "dense (Dense)                (None, 128)               2769024   \n",
      "_________________________________________________________________\n",
      "dropout (Dropout)            (None, 128)               0         \n",
      "_________________________________________________________________\n",
      "dense_1 (Dense)              (None, 1)                 129       \n",
      "=================================================================\n",
      "Total params: 2,788,545\n",
      "Trainable params: 2,788,545\n",
      "Non-trainable params: 0\n",
      "_________________________________________________________________\n"
     ]
    }
   ],
   "source": [
    "classifier.summary()"
   ]
  },
  {
   "cell_type": "code",
   "execution_count": 6,
   "metadata": {},
   "outputs": [],
   "source": [
    "classifier.compile(optimizer = 'adam', loss = 'binary_crossentropy', metrics = ['accuracy'])"
   ]
  },
  {
   "cell_type": "code",
   "execution_count": 7,
   "metadata": {},
   "outputs": [],
   "source": [
    "train_datagen = ImageDataGenerator(\n",
    "    rescale=1. / 255,\n",
    "    rotation_range=40,\n",
    "    width_shift_range=.2,\n",
    "    height_shift_range=.2,\n",
    "    shear_range=.2,\n",
    "    zoom_range=.2,\n",
    "    horizontal_flip=True,\n",
    "    fill_mode='nearest')"
   ]
  },
  {
   "cell_type": "code",
   "execution_count": 8,
   "metadata": {},
   "outputs": [],
   "source": [
    "TRAINING_DIR = 'final_data/train'\n",
    "VALIDATION_DIR = 'final_data/val'"
   ]
  },
  {
   "cell_type": "code",
   "execution_count": 9,
   "metadata": {},
   "outputs": [
    {
     "name": "stdout",
     "output_type": "stream",
     "text": [
      "Found 1100 images belonging to 2 classes.\n"
     ]
    }
   ],
   "source": [
    "train_generator = train_datagen.flow_from_directory(\n",
    "    TRAINING_DIR,\n",
    "    batch_size=16,\n",
    "    class_mode='binary',\n",
    "    target_size=(224, 224))"
   ]
  },
  {
   "cell_type": "code",
   "execution_count": 10,
   "metadata": {},
   "outputs": [],
   "source": [
    "validation_datagen = ImageDataGenerator(\n",
    "                        rescale=1. / 255)"
   ]
  },
  {
   "cell_type": "code",
   "execution_count": 11,
   "metadata": {},
   "outputs": [
    {
     "name": "stdout",
     "output_type": "stream",
     "text": [
      "Found 276 images belonging to 2 classes.\n"
     ]
    }
   ],
   "source": [
    "validation_generator = validation_datagen.flow_from_directory(\n",
    "    VALIDATION_DIR,\n",
    "    batch_size=16,\n",
    "    class_mode='binary',\n",
    "    target_size=(224, 224))\n"
   ]
  },
  {
   "cell_type": "code",
   "execution_count": 12,
   "metadata": {},
   "outputs": [
    {
     "name": "stdout",
     "output_type": "stream",
     "text": [
      "Epoch 1/15\n",
      "69/68 [==============================] - 35s 509ms/step - loss: 0.5181 - accuracy: 0.7545 - val_loss: 0.2282 - val_accuracy: 0.9058\n",
      "Epoch 2/15\n",
      "69/68 [==============================] - 29s 426ms/step - loss: 0.2805 - accuracy: 0.8991 - val_loss: 0.1442 - val_accuracy: 0.9348\n",
      "Epoch 3/15\n",
      "69/68 [==============================] - 29s 426ms/step - loss: 0.2341 - accuracy: 0.9127 - val_loss: 0.1149 - val_accuracy: 0.9565\n",
      "Epoch 4/15\n",
      "69/68 [==============================] - 29s 427ms/step - loss: 0.1619 - accuracy: 0.9482 - val_loss: 0.1515 - val_accuracy: 0.9420\n",
      "Epoch 5/15\n",
      "69/68 [==============================] - 29s 426ms/step - loss: 0.1599 - accuracy: 0.9427 - val_loss: 0.0519 - val_accuracy: 0.9891\n",
      "Epoch 6/15\n",
      "69/68 [==============================] - 29s 427ms/step - loss: 0.1323 - accuracy: 0.9500 - val_loss: 0.1029 - val_accuracy: 0.9565\n",
      "Epoch 7/15\n",
      "69/68 [==============================] - 30s 428ms/step - loss: 0.0980 - accuracy: 0.9700 - val_loss: 0.0274 - val_accuracy: 0.9891\n",
      "Epoch 8/15\n",
      "69/68 [==============================] - 29s 426ms/step - loss: 0.1192 - accuracy: 0.9591 - val_loss: 0.0833 - val_accuracy: 0.9493\n",
      "Epoch 9/15\n",
      "69/68 [==============================] - 29s 427ms/step - loss: 0.1125 - accuracy: 0.9582 - val_loss: 0.0703 - val_accuracy: 0.9746\n",
      "Epoch 10/15\n",
      "69/68 [==============================] - 29s 426ms/step - loss: 0.0992 - accuracy: 0.9691 - val_loss: 0.0339 - val_accuracy: 0.9928\n",
      "Epoch 11/15\n",
      "69/68 [==============================] - 30s 428ms/step - loss: 0.0986 - accuracy: 0.9673 - val_loss: 0.0387 - val_accuracy: 0.9891\n",
      "Epoch 12/15\n",
      "69/68 [==============================] - 29s 426ms/step - loss: 0.0897 - accuracy: 0.9691 - val_loss: 0.0299 - val_accuracy: 0.9891\n",
      "Epoch 13/15\n",
      "69/68 [==============================] - 29s 427ms/step - loss: 0.1091 - accuracy: 0.9636 - val_loss: 0.0606 - val_accuracy: 0.9710\n",
      "Epoch 14/15\n",
      "69/68 [==============================] - 30s 428ms/step - loss: 0.0637 - accuracy: 0.9773 - val_loss: 0.0258 - val_accuracy: 0.9819\n",
      "Epoch 15/15\n",
      "69/68 [==============================] - 30s 428ms/step - loss: 0.0552 - accuracy: 0.9791 - val_loss: 0.0716 - val_accuracy: 0.9638\n"
     ]
    },
    {
     "data": {
      "text/plain": [
       "<tensorflow.python.keras.callbacks.History at 0x2e189cac508>"
      ]
     },
     "execution_count": 12,
     "metadata": {},
     "output_type": "execute_result"
    }
   ],
   "source": [
    "classifier.fit(train_generator,\n",
    "            epochs=15,\n",
    "            steps_per_epoch=1100/16,\n",
    "            verbose=1,\n",
    "            validation_data=validation_generator,\n",
    "            validation_steps=276/16)"
   ]
  },
  {
   "cell_type": "code",
   "execution_count": 20,
   "metadata": {},
   "outputs": [],
   "source": [
    "classifier.save(\"mask_detector.h5\", save_format=\"h5\")"
   ]
  },
  {
   "cell_type": "code",
   "execution_count": 25,
   "metadata": {},
   "outputs": [
    {
     "name": "stdout",
     "output_type": "stream",
     "text": [
      "0.0\n",
      "Masked\n",
      "0.0\n",
      "Masked\n",
      "0.0\n",
      "Masked\n",
      "1.0\n",
      "Not Masked!\n",
      "1.0\n",
      "Not Masked!\n",
      "1.0\n",
      "Not Masked!\n"
     ]
    }
   ],
   "source": [
    "for test_image in os.listdir('testing/'):\n",
    "    test_image = image.load_img('testing/'+test_image, target_size = (224, 224))\n",
    "    test_image = image.img_to_array(test_image)\n",
    "    test_image = np.expand_dims(test_image, axis = 0)\n",
    "    result = classifier.predict(test_image)\n",
    "    print(result[0][0])\n",
    "    if result[0][0] == 1:\n",
    "        prediction = \"Not Masked!\"\n",
    "        print(prediction)\n",
    "    else: \n",
    "        prediction = \"Masked\"\n",
    "        print(prediction)\n",
    "    "
   ]
  },
  {
   "cell_type": "code",
   "execution_count": null,
   "metadata": {},
   "outputs": [],
   "source": []
  }
 ],
 "metadata": {
  "kernelspec": {
   "display_name": "Python 3",
   "language": "python",
   "name": "python3"
  },
  "language_info": {
   "codemirror_mode": {
    "name": "ipython",
    "version": 3
   },
   "file_extension": ".py",
   "mimetype": "text/x-python",
   "name": "python",
   "nbconvert_exporter": "python",
   "pygments_lexer": "ipython3",
   "version": "3.7.6"
  }
 },
 "nbformat": 4,
 "nbformat_minor": 4
}
